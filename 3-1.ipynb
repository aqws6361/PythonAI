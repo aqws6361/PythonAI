{
 "cells": [
  {
   "cell_type": "markdown",
   "id": "0b28edd2",
   "metadata": {},
   "source": [
    "章節3 程式實作"
   ]
  },
  {
   "cell_type": "markdown",
   "id": "c69c38fa",
   "metadata": {},
   "source": [
    "先驗演算法函式運用"
   ]
  },
  {
   "cell_type": "code",
   "execution_count": 3,
   "id": "5abbff03",
   "metadata": {},
   "outputs": [],
   "source": [
    "# 匯入套件\n",
    "import pandas as pd\n",
    "from apyori import apriori"
   ]
  },
  {
   "cell_type": "markdown",
   "id": "7073be27",
   "metadata": {},
   "source": [
    "讀入試算表並觀察資料"
   ]
  },
  {
   "cell_type": "code",
   "execution_count": 4,
   "id": "cf9c6618",
   "metadata": {},
   "outputs": [
    {
     "name": "stdout",
     "output_type": "stream",
     "text": [
      "                 0                  1            2                 3   \\\n",
      "0            shrimp            almonds      avocado    vegetables mix   \n",
      "1           burgers          meatballs         eggs               NaN   \n",
      "2           chutney                NaN          NaN               NaN   \n",
      "3            turkey            avocado          NaN               NaN   \n",
      "4     mineral water               milk   energy bar  whole wheat rice   \n",
      "...             ...                ...          ...               ...   \n",
      "7496         butter         light mayo  fresh bread               NaN   \n",
      "7497        burgers  frozen vegetables         eggs      french fries   \n",
      "7498        chicken                NaN          NaN               NaN   \n",
      "7499       escalope          green tea          NaN               NaN   \n",
      "7500           eggs    frozen smoothie  yogurt cake    low fat yogurt   \n",
      "\n",
      "                4                 5     6               7             8   \\\n",
      "0     green grapes  whole weat flour  yams  cottage cheese  energy drink   \n",
      "1              NaN               NaN   NaN             NaN           NaN   \n",
      "2              NaN               NaN   NaN             NaN           NaN   \n",
      "3              NaN               NaN   NaN             NaN           NaN   \n",
      "4        green tea               NaN   NaN             NaN           NaN   \n",
      "...            ...               ...   ...             ...           ...   \n",
      "7496           NaN               NaN   NaN             NaN           NaN   \n",
      "7497     magazines         green tea   NaN             NaN           NaN   \n",
      "7498           NaN               NaN   NaN             NaN           NaN   \n",
      "7499           NaN               NaN   NaN             NaN           NaN   \n",
      "7500           NaN               NaN   NaN             NaN           NaN   \n",
      "\n",
      "                9               10         11     12     13             14  \\\n",
      "0     tomato juice  low fat yogurt  green tea  honey  salad  mineral water   \n",
      "1              NaN             NaN        NaN    NaN    NaN            NaN   \n",
      "2              NaN             NaN        NaN    NaN    NaN            NaN   \n",
      "3              NaN             NaN        NaN    NaN    NaN            NaN   \n",
      "4              NaN             NaN        NaN    NaN    NaN            NaN   \n",
      "...            ...             ...        ...    ...    ...            ...   \n",
      "7496           NaN             NaN        NaN    NaN    NaN            NaN   \n",
      "7497           NaN             NaN        NaN    NaN    NaN            NaN   \n",
      "7498           NaN             NaN        NaN    NaN    NaN            NaN   \n",
      "7499           NaN             NaN        NaN    NaN    NaN            NaN   \n",
      "7500           NaN             NaN        NaN    NaN    NaN            NaN   \n",
      "\n",
      "          15                 16               17       18         19  \n",
      "0     salmon  antioxydant juice  frozen smoothie  spinach  olive oil  \n",
      "1        NaN                NaN              NaN      NaN        NaN  \n",
      "2        NaN                NaN              NaN      NaN        NaN  \n",
      "3        NaN                NaN              NaN      NaN        NaN  \n",
      "4        NaN                NaN              NaN      NaN        NaN  \n",
      "...      ...                ...              ...      ...        ...  \n",
      "7496     NaN                NaN              NaN      NaN        NaN  \n",
      "7497     NaN                NaN              NaN      NaN        NaN  \n",
      "7498     NaN                NaN              NaN      NaN        NaN  \n",
      "7499     NaN                NaN              NaN      NaN        NaN  \n",
      "7500     NaN                NaN              NaN      NaN        NaN  \n",
      "\n",
      "[7501 rows x 20 columns]\n"
     ]
    }
   ],
   "source": [
    "df = pd.read_csv('Market_Basket_Optimisation.csv', header=None)  # 讀入csv檔\n",
    "print(df)  # 輸出試算表"
   ]
  },
  {
   "cell_type": "markdown",
   "id": "6c43f039",
   "metadata": {},
   "source": [
    "資料預處理"
   ]
  },
  {
   "cell_type": "code",
   "execution_count": 6,
   "id": "8a4ec5f7",
   "metadata": {},
   "outputs": [],
   "source": [
    "# 資料預處理\n",
    "data = df.values.tolist()\n",
    "data = [[x for x in row if str(x) != 'nan'] for row in data]"
   ]
  },
  {
   "cell_type": "markdown",
   "id": "b772bd89",
   "metadata": {},
   "source": [
    "資料探勘"
   ]
  },
  {
   "cell_type": "code",
   "execution_count": 7,
   "id": "2d51bb9d",
   "metadata": {},
   "outputs": [
    {
     "name": "stdout",
     "output_type": "stream",
     "text": [
      "RelationRecord(items=frozenset({'ground beef', 'mineral water'}), support=0.040927876283162246, ordered_statistics=[OrderedStatistic(items_base=frozenset({'ground beef'}), items_add=frozenset({'mineral water'}), confidence=0.41655359565807326, lift=1.7475215442008991)])\n"
     ]
    }
   ],
   "source": [
    "# apriori函式運算\n",
    "associations = apriori(data, min_support=0.01,\n",
    "                       min_confidence=0.4, min_lift=1.5)\n",
    "rules = list(associations)\n",
    "print(rules[0])"
   ]
  },
  {
   "cell_type": "markdown",
   "id": "134f6126",
   "metadata": {},
   "source": [
    "探勘規則呈現"
   ]
  },
  {
   "cell_type": "code",
   "execution_count": 8,
   "id": "8f132f5c",
   "metadata": {},
   "outputs": [
    {
     "name": "stdout",
     "output_type": "stream",
     "text": [
      "{'ground beef'} => {'mineral water'}\n",
      "Confidence: 0.4166 Support: 0.0409 Lift: 1.7475\n",
      "{'olive oil'} => {'mineral water'}\n",
      "Confidence: 0.4190 Support: 0.0276 Lift: 1.7579\n",
      "{'salmon'} => {'mineral water'}\n",
      "Confidence: 0.4013 Support: 0.0171 Lift: 1.6833\n",
      "{'soup'} => {'mineral water'}\n",
      "Confidence: 0.4565 Support: 0.0231 Lift: 1.9150\n",
      "{'chocolate', 'eggs'} => {'mineral water'}\n",
      "Confidence: 0.4056 Support: 0.0135 Lift: 1.7017\n",
      "{'chocolate', 'ground beef'} => {'mineral water'}\n",
      "Confidence: 0.4740 Support: 0.0109 Lift: 1.9885\n",
      "{'chocolate', 'milk'} => {'mineral water'}\n",
      "Confidence: 0.4357 Support: 0.0140 Lift: 1.8278\n",
      "{'chocolate', 'spaghetti'} => {'mineral water'}\n",
      "Confidence: 0.4048 Support: 0.0159 Lift: 1.6981\n",
      "{'eggs', 'ground beef'} => {'mineral water'}\n",
      "Confidence: 0.5067 Support: 0.0101 Lift: 2.1256\n",
      "{'eggs', 'milk'} => {'mineral water'}\n",
      "Confidence: 0.4242 Support: 0.0131 Lift: 1.7798\n",
      "{'frozen vegetables', 'milk'} => {'mineral water'}\n",
      "Confidence: 0.4689 Support: 0.0111 Lift: 1.9672\n",
      "{'frozen vegetables', 'spaghetti'} => {'mineral water'}\n",
      "Confidence: 0.4306 Support: 0.0120 Lift: 1.8065\n",
      "{'ground beef', 'milk'} => {'mineral water'}\n",
      "Confidence: 0.5030 Support: 0.0111 Lift: 2.1103\n",
      "{'ground beef', 'mineral water'} => {'spaghetti'}\n",
      "Confidence: 0.4169 Support: 0.0171 Lift: 2.3947\n",
      "{'ground beef', 'spaghetti'} => {'mineral water'}\n",
      "Confidence: 0.4354 Support: 0.0171 Lift: 1.8265\n",
      "{'milk', 'spaghetti'} => {'mineral water'}\n",
      "Confidence: 0.4436 Support: 0.0157 Lift: 1.8610\n",
      "{'olive oil', 'spaghetti'} => {'mineral water'}\n",
      "Confidence: 0.4477 Support: 0.0103 Lift: 1.8781\n",
      "{'spaghetti', 'pancakes'} => {'mineral water'}\n",
      "Confidence: 0.4550 Support: 0.0115 Lift: 1.9089\n"
     ]
    }
   ],
   "source": [
    "# 輸出潛在知識\n",
    "for rule in rules:\n",
    "    for order_stat in rule.ordered_statistics:\n",
    "        set_A = set(order_stat.items_base)\n",
    "        set_B = set(order_stat.items_add)\n",
    "        if len(set_A) == 0 or len(set_B) == 0:\n",
    "            continue\n",
    "        print(f'{set_A} => {set_B}')\n",
    "        print((f'Confidence: {order_stat.confidence :.4f}'\n",
    "              f' Support: {rule.support :.4f}'\n",
    "              f' Lift: {order_stat.lift :.4f}'))"
   ]
  },
  {
   "cell_type": "code",
   "execution_count": null,
   "id": "52fc3715",
   "metadata": {},
   "outputs": [],
   "source": []
  }
 ],
 "metadata": {
  "kernelspec": {
   "display_name": "Python 3 (ipykernel)",
   "language": "python",
   "name": "python3"
  },
  "language_info": {
   "codemirror_mode": {
    "name": "ipython",
    "version": 3
   },
   "file_extension": ".py",
   "mimetype": "text/x-python",
   "name": "python",
   "nbconvert_exporter": "python",
   "pygments_lexer": "ipython3",
   "version": "3.11.5"
  }
 },
 "nbformat": 4,
 "nbformat_minor": 5
}
