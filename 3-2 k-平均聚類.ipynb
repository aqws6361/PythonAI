{
 "cells": [
  {
   "cell_type": "markdown",
   "id": "92af5a97",
   "metadata": {},
   "source": [
    "鷲尾花資料集"
   ]
  },
  {
   "cell_type": "code",
   "execution_count": 2,
   "id": "c3b17706",
   "metadata": {},
   "outputs": [],
   "source": [
    "#匯入套件\n",
    "from sklearn import cluster, datasets\n",
    "import itertools\n",
    "import numpy as np"
   ]
  },
  {
   "cell_type": "markdown",
   "id": "f6140cc0",
   "metadata": {},
   "source": [
    "讀入資料"
   ]
  },
  {
   "cell_type": "code",
   "execution_count": 3,
   "id": "6c995eb8",
   "metadata": {},
   "outputs": [],
   "source": [
    "iris = datasets.load_iris() #載入Iris資料\n",
    "data_count = len(iris['data']) #取的資料筆數"
   ]
  },
  {
   "cell_type": "markdown",
   "id": "0c5598c3",
   "metadata": {},
   "source": [
    "資料分群"
   ]
  },
  {
   "cell_type": "code",
   "execution_count": 7,
   "id": "5a3820d5",
   "metadata": {},
   "outputs": [
    {
     "name": "stdout",
     "output_type": "stream",
     "text": [
      "Clustered Labels:\n",
      "[1 1 1 1 1 1 1 1 1 1 1 1 1 1 1 1 1 1 1 1 1 1 1 1 1 1 1 1 1 1 1 1 1 1 1 1 1\n",
      " 1 1 1 1 1 1 1 1 1 1 1 1 1 0 0 2 0 0 0 0 0 0 0 0 0 0 0 0 0 0 0 0 0 0 0 0 0\n",
      " 0 0 0 2 0 0 0 0 0 0 0 0 0 0 0 0 0 0 0 0 0 0 0 0 0 0 2 0 2 2 2 2 0 2 2 2 2\n",
      " 2 2 0 0 2 2 2 2 0 2 0 2 0 2 2 0 0 2 2 2 2 2 0 2 2 2 2 0 2 2 2 0 2 2 2 0 2\n",
      " 2 0]\n",
      "Iris Labels:\n",
      "[0 0 0 0 0 0 0 0 0 0 0 0 0 0 0 0 0 0 0 0 0 0 0 0 0 0 0 0 0 0 0 0 0 0 0 0 0\n",
      " 0 0 0 0 0 0 0 0 0 0 0 0 0 1 1 1 1 1 1 1 1 1 1 1 1 1 1 1 1 1 1 1 1 1 1 1 1\n",
      " 1 1 1 1 1 1 1 1 1 1 1 1 1 1 1 1 1 1 1 1 1 1 1 1 1 1 2 2 2 2 2 2 2 2 2 2 2\n",
      " 2 2 2 2 2 2 2 2 2 2 2 2 2 2 2 2 2 2 2 2 2 2 2 2 2 2 2 2 2 2 2 2 2 2 2 2 2\n",
      " 2 2]\n"
     ]
    },
    {
     "name": "stderr",
     "output_type": "stream",
     "text": [
      "C:\\Users\\Admin\\anaconda3\\Lib\\site-packages\\sklearn\\cluster\\_kmeans.py:1436: UserWarning: KMeans is known to have a memory leak on Windows with MKL, when there are less chunks than available threads. You can avoid it by setting the environment variable OMP_NUM_THREADS=1.\n",
      "  warnings.warn(\n"
     ]
    }
   ],
   "source": [
    "kmeans = cluster.KMeans(n_clusters=3, n_init=10)  # 建構聚類器\n",
    "kmeans.fit(iris.data)  # 資料分群\n",
    "# 印出預測標籤\n",
    "print('Clustered Labels:')\n",
    "print(kmeans.labels_)\n",
    "# 印出正確標籤\n",
    "print('Iris Labels:')\n",
    "print(iris.target)"
   ]
  },
  {
   "cell_type": "code",
   "execution_count": 8,
   "id": "2f88a7f2",
   "metadata": {},
   "outputs": [
    {
     "name": "stdout",
     "output_type": "stream",
     "text": [
      "Match Accuracy: 89.33%\n"
     ]
    }
   ],
   "source": [
    "accuracy = 0\n",
    "for perm in list(itertools.permutations(range(3))):\n",
    "    labels = kmeans.labels_\n",
    "    for i in range(data_count):\n",
    "        labels[i] = perm[kmeans.labels_[i]] #重排標籤\n",
    "    accuracy = max(accuracy, np.sum(labels == iris.target) / data_count)\n",
    "print(f'Match Accuracy: {100 * accuracy :.2f}%')"
   ]
  }
 ],
 "metadata": {
  "kernelspec": {
   "display_name": "Python 3 (ipykernel)",
   "language": "python",
   "name": "python3"
  },
  "language_info": {
   "codemirror_mode": {
    "name": "ipython",
    "version": 3
   },
   "file_extension": ".py",
   "mimetype": "text/x-python",
   "name": "python",
   "nbconvert_exporter": "python",
   "pygments_lexer": "ipython3",
   "version": "3.11.5"
  }
 },
 "nbformat": 4,
 "nbformat_minor": 5
}
