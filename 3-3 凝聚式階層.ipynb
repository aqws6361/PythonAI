{
 "cells": [
  {
   "cell_type": "code",
   "execution_count": 1,
   "id": "93922391",
   "metadata": {},
   "outputs": [],
   "source": [
    "#匯入套件\n",
    "from sklearn import cluster, datasets\n",
    "import itertools\n",
    "import numpy as np"
   ]
  },
  {
   "cell_type": "code",
   "execution_count": 2,
   "id": "1437c464",
   "metadata": {},
   "outputs": [],
   "source": [
    "iris = datasets.load_iris() #載入Iris資料\n",
    "data_count = len(iris['data']) #取得資料筆數"
   ]
  },
  {
   "cell_type": "markdown",
   "id": "754b9f00",
   "metadata": {},
   "source": [
    "資料分群"
   ]
  },
  {
   "cell_type": "code",
   "execution_count": 4,
   "id": "cb523318",
   "metadata": {},
   "outputs": [
    {
     "name": "stdout",
     "output_type": "stream",
     "text": [
      "Clustered Labels:\n",
      "[1 1 1 1 1 1 1 1 1 1 1 1 1 1 1 1 1 1 1 1 1 1 1 1 1 1 1 1 1 1 1 1 1 1 1 1 1\n",
      " 1 1 1 1 1 1 1 1 1 1 1 1 1 0 0 0 0 0 0 0 0 0 0 0 0 0 0 0 0 0 0 0 0 0 0 0 0\n",
      " 0 0 0 2 0 0 0 0 0 0 0 0 0 0 0 0 0 0 0 0 0 0 0 0 0 0 2 0 2 2 2 2 0 2 2 2 2\n",
      " 2 2 0 0 2 2 2 2 0 2 0 2 0 2 2 0 0 2 2 2 2 2 0 0 2 2 2 0 2 2 2 0 2 2 2 0 2\n",
      " 2 0]\n",
      "Iris Labels:\n",
      "[0 0 0 0 0 0 0 0 0 0 0 0 0 0 0 0 0 0 0 0 0 0 0 0 0 0 0 0 0 0 0 0 0 0 0 0 0\n",
      " 0 0 0 0 0 0 0 0 0 0 0 0 0 1 1 1 1 1 1 1 1 1 1 1 1 1 1 1 1 1 1 1 1 1 1 1 1\n",
      " 1 1 1 1 1 1 1 1 1 1 1 1 1 1 1 1 1 1 1 1 1 1 1 1 1 1 2 2 2 2 2 2 2 2 2 2 2\n",
      " 2 2 2 2 2 2 2 2 2 2 2 2 2 2 2 2 2 2 2 2 2 2 2 2 2 2 2 2 2 2 2 2 2 2 2 2 2\n",
      " 2 2]\n"
     ]
    }
   ],
   "source": [
    "hierarchy = cluster.AgglomerativeClustering(\n",
    "    linkage='ward', metric='euclidean', n_clusters=3)  # 建構聚類器\n",
    "hierarchy.fit(iris.data)  # 資料分群\n",
    "# 印出預測標籤\n",
    "print('Clustered Labels:')\n",
    "print(hierarchy.labels_)\n",
    "# 印出正確標籤\n",
    "print('Iris Labels:')\n",
    "print(iris.target)"
   ]
  },
  {
   "cell_type": "markdown",
   "id": "0c2568ed",
   "metadata": {},
   "source": [
    "計算聚類準確率"
   ]
  },
  {
   "cell_type": "code",
   "execution_count": 5,
   "id": "e68dacb3",
   "metadata": {},
   "outputs": [
    {
     "name": "stdout",
     "output_type": "stream",
     "text": [
      "Match Accuracy: 89.33%\n"
     ]
    }
   ],
   "source": [
    "accuracy = 0\n",
    "for perm in list(itertools.permutations(range(3))):\n",
    "    labels = hierarchy.labels_\n",
    "    for i in range(data_count):\n",
    "        labels[i] = perm[hierarchy.labels_[i]] #重貼標籤\n",
    "    accuracy = max(accuracy, np.sum(labels == iris.target) / data_count)\n",
    "print(f'Match Accuracy: {100 * accuracy :.2f}%')"
   ]
  }
 ],
 "metadata": {
  "kernelspec": {
   "display_name": "Python 3 (ipykernel)",
   "language": "python",
   "name": "python3"
  },
  "language_info": {
   "codemirror_mode": {
    "name": "ipython",
    "version": 3
   },
   "file_extension": ".py",
   "mimetype": "text/x-python",
   "name": "python",
   "nbconvert_exporter": "python",
   "pygments_lexer": "ipython3",
   "version": "3.11.5"
  }
 },
 "nbformat": 4,
 "nbformat_minor": 5
}
